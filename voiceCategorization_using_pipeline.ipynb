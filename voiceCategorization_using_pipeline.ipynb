{
 "cells": [
  {
   "cell_type": "markdown",
   "metadata": {
    "id": "h2VKIcg-PDbC"
   },
   "source": [
    "# Voice Categorization - Case Study"
   ]
  },
  {
   "cell_type": "markdown",
   "metadata": {
    "id": "VFHJdDlWPDbJ"
   },
   "source": [
    "# Importing Libraries\n",
    "\n"
   ]
  },
  {
   "cell_type": "code",
   "execution_count": 49,
   "metadata": {
    "id": "DCkZbtS5PDbK"
   },
   "outputs": [],
   "source": [
    "\n",
    "import numpy as np \n",
    "import pandas as pd\n",
    "import seaborn as sns\n",
    "import matplotlib.pyplot as plt"
   ]
  },
  {
   "cell_type": "markdown",
   "metadata": {
    "id": "5n0qTrz4PDbN"
   },
   "source": [
    "# Data Set: Voice Data Set\n",
    "\n",
    "This database was created to identify a voice as male or female, based upon acoustic properties of the voice and speech. The dataset consists of 3800 recorded voice samples. The voice samples are pre-processed by acoustic analysis in R using the seewave and tuneR packages.\n",
    "\n",
    "The following acoustic properties of each voice are measured and included within the CSV:\n",
    "\n",
    "<ul>\n",
    "<li><strong>meanfreq</strong>: mean frequency (in kHz)</li>\n",
    "<li><strong>sd</strong>: standard deviation of frequency</li>\n",
    "<li><strong>median</strong>: median frequency (in kHz)</li>\n",
    "<li><strong>Q25</strong>: first quantile (in kHz)</li>\n",
    "<li><strong>Q75</strong>: third quantile (in kHz)</li>\n",
    "<li><strong>IQR</strong>: interquantile range (in kHz)</li>\n",
    "<li><strong>skew</strong>: skewness (see note in specprop description)</li>\n",
    "<li><strong>kurt</strong>: kurtosis (see note in specprop description)</li>\n",
    "<li><strong>sp.ent</strong>: spectral entropy</li>\n",
    "<li><strong>sfm</strong>: spectral flatness</li>\n",
    "<li><strong>mode</strong>: mode frequency</li>\n",
    "<li><strong>centroid</strong>: frequency centroid (see specprop)</li>\n",
    "<li><strong>peakf</strong>: peak frequency (frequency with highest energy)</li>\n",
    "<li><strong>meanfun</strong>: average of fundamental frequency measured across acoustic signal</li>\n",
    "<li><strong>minfun</strong>: minimum fundamental frequency measured across acoustic signal</li>\n",
    "<li><strong>maxfun</strong>: maximum fundamental frequency measured across acoustic signal</li>\n",
    "<li><strong>meandom</strong>: average of dominant frequency measured across acoustic signal</li>\n",
    "<li><strong>mindom</strong>: minimum of dominant frequency measured across acoustic signal</li>\n",
    "<li><strong>maxdom</strong>: maximum of dominant frequency measured across acoustic signal</li>\n",
    "<li><strong>dfrange</strong>: range of dominant frequency measured across acoustic signal</li>\n",
    "<li><strong>modindx</strong>: modulation index. Calculated as the accumulated absolute difference between adjacent measurements of fundamental frequencies divided by the frequency range</li>\n",
    "<li><strong>label</strong>: male or female</li>\n",
    "</ul>"
   ]
  },
  {
   "cell_type": "markdown",
   "metadata": {
    "id": "VYIjx2fIPDbO"
   },
   "source": [
    "## Reading the Data\n",
    "\n"
   ]
  },
  {
   "cell_type": "code",
   "execution_count": 50,
   "metadata": {
    "id": "S1hwHSBSPDbP"
   },
   "outputs": [],
   "source": [
    "data = pd.read_csv('voice-classification.csv')"
   ]
  },
  {
   "cell_type": "code",
   "execution_count": 51,
   "metadata": {
    "colab": {
     "base_uri": "https://localhost:8080/"
    },
    "id": "sbiJzUSOPDbQ",
    "outputId": "aa0b1c72-8eb6-47a2-d857-30720e2cadc0"
   },
   "outputs": [
    {
     "data": {
      "text/plain": [
       "(3168, 21)"
      ]
     },
     "execution_count": 51,
     "metadata": {},
     "output_type": "execute_result"
    }
   ],
   "source": [
    "data.shape"
   ]
  },
  {
   "cell_type": "code",
   "execution_count": 52,
   "metadata": {
    "colab": {
     "base_uri": "https://localhost:8080/",
     "height": 677
    },
    "id": "n_WwySFLPDbR",
    "outputId": "6e14bd61-d4d4-4a27-bf42-6dec6bfacd55"
   },
   "outputs": [
    {
     "data": {
      "text/html": [
       "<div>\n",
       "<style scoped>\n",
       "    .dataframe tbody tr th:only-of-type {\n",
       "        vertical-align: middle;\n",
       "    }\n",
       "\n",
       "    .dataframe tbody tr th {\n",
       "        vertical-align: top;\n",
       "    }\n",
       "\n",
       "    .dataframe thead th {\n",
       "        text-align: right;\n",
       "    }\n",
       "</style>\n",
       "<table border=\"1\" class=\"dataframe\">\n",
       "  <thead>\n",
       "    <tr style=\"text-align: right;\">\n",
       "      <th></th>\n",
       "      <th>count</th>\n",
       "      <th>mean</th>\n",
       "      <th>std</th>\n",
       "      <th>min</th>\n",
       "      <th>25%</th>\n",
       "      <th>50%</th>\n",
       "      <th>75%</th>\n",
       "      <th>max</th>\n",
       "    </tr>\n",
       "  </thead>\n",
       "  <tbody>\n",
       "    <tr>\n",
       "      <th>meanfreq</th>\n",
       "      <td>3168.0</td>\n",
       "      <td>0.180907</td>\n",
       "      <td>0.029918</td>\n",
       "      <td>0.039363</td>\n",
       "      <td>0.163662</td>\n",
       "      <td>0.184838</td>\n",
       "      <td>0.199146</td>\n",
       "      <td>0.251124</td>\n",
       "    </tr>\n",
       "    <tr>\n",
       "      <th>sd</th>\n",
       "      <td>3168.0</td>\n",
       "      <td>0.057126</td>\n",
       "      <td>0.016652</td>\n",
       "      <td>0.018363</td>\n",
       "      <td>0.041954</td>\n",
       "      <td>0.059155</td>\n",
       "      <td>0.067020</td>\n",
       "      <td>0.115273</td>\n",
       "    </tr>\n",
       "    <tr>\n",
       "      <th>median</th>\n",
       "      <td>3168.0</td>\n",
       "      <td>0.185621</td>\n",
       "      <td>0.036360</td>\n",
       "      <td>0.010975</td>\n",
       "      <td>0.169593</td>\n",
       "      <td>0.190032</td>\n",
       "      <td>0.210618</td>\n",
       "      <td>0.261224</td>\n",
       "    </tr>\n",
       "    <tr>\n",
       "      <th>Q25</th>\n",
       "      <td>3168.0</td>\n",
       "      <td>0.140456</td>\n",
       "      <td>0.048680</td>\n",
       "      <td>0.000229</td>\n",
       "      <td>0.111087</td>\n",
       "      <td>0.140286</td>\n",
       "      <td>0.175939</td>\n",
       "      <td>0.247347</td>\n",
       "    </tr>\n",
       "    <tr>\n",
       "      <th>Q75</th>\n",
       "      <td>3168.0</td>\n",
       "      <td>0.224765</td>\n",
       "      <td>0.023639</td>\n",
       "      <td>0.042946</td>\n",
       "      <td>0.208747</td>\n",
       "      <td>0.225684</td>\n",
       "      <td>0.243660</td>\n",
       "      <td>0.273469</td>\n",
       "    </tr>\n",
       "    <tr>\n",
       "      <th>IQR</th>\n",
       "      <td>3168.0</td>\n",
       "      <td>0.084309</td>\n",
       "      <td>0.042783</td>\n",
       "      <td>0.014558</td>\n",
       "      <td>0.042560</td>\n",
       "      <td>0.094280</td>\n",
       "      <td>0.114175</td>\n",
       "      <td>0.252225</td>\n",
       "    </tr>\n",
       "    <tr>\n",
       "      <th>skew</th>\n",
       "      <td>3168.0</td>\n",
       "      <td>3.140168</td>\n",
       "      <td>4.240529</td>\n",
       "      <td>0.141735</td>\n",
       "      <td>1.649569</td>\n",
       "      <td>2.197101</td>\n",
       "      <td>2.931694</td>\n",
       "      <td>34.725453</td>\n",
       "    </tr>\n",
       "    <tr>\n",
       "      <th>kurt</th>\n",
       "      <td>3168.0</td>\n",
       "      <td>36.568461</td>\n",
       "      <td>134.928661</td>\n",
       "      <td>2.068455</td>\n",
       "      <td>5.669547</td>\n",
       "      <td>8.318463</td>\n",
       "      <td>13.648905</td>\n",
       "      <td>1309.612887</td>\n",
       "    </tr>\n",
       "    <tr>\n",
       "      <th>sp.ent</th>\n",
       "      <td>3168.0</td>\n",
       "      <td>0.895127</td>\n",
       "      <td>0.044980</td>\n",
       "      <td>0.738651</td>\n",
       "      <td>0.861811</td>\n",
       "      <td>0.901767</td>\n",
       "      <td>0.928713</td>\n",
       "      <td>0.981997</td>\n",
       "    </tr>\n",
       "    <tr>\n",
       "      <th>sfm</th>\n",
       "      <td>3168.0</td>\n",
       "      <td>0.408216</td>\n",
       "      <td>0.177521</td>\n",
       "      <td>0.036876</td>\n",
       "      <td>0.258041</td>\n",
       "      <td>0.396335</td>\n",
       "      <td>0.533676</td>\n",
       "      <td>0.842936</td>\n",
       "    </tr>\n",
       "    <tr>\n",
       "      <th>mode</th>\n",
       "      <td>3018.0</td>\n",
       "      <td>0.167440</td>\n",
       "      <td>0.076489</td>\n",
       "      <td>0.000000</td>\n",
       "      <td>0.121497</td>\n",
       "      <td>0.188805</td>\n",
       "      <td>0.221762</td>\n",
       "      <td>0.280000</td>\n",
       "    </tr>\n",
       "    <tr>\n",
       "      <th>centroid</th>\n",
       "      <td>3168.0</td>\n",
       "      <td>0.180907</td>\n",
       "      <td>0.029918</td>\n",
       "      <td>0.039363</td>\n",
       "      <td>0.163662</td>\n",
       "      <td>0.184838</td>\n",
       "      <td>0.199146</td>\n",
       "      <td>0.251124</td>\n",
       "    </tr>\n",
       "    <tr>\n",
       "      <th>meanfun</th>\n",
       "      <td>3168.0</td>\n",
       "      <td>0.142807</td>\n",
       "      <td>0.032304</td>\n",
       "      <td>0.055565</td>\n",
       "      <td>0.116998</td>\n",
       "      <td>0.140519</td>\n",
       "      <td>0.169581</td>\n",
       "      <td>0.237636</td>\n",
       "    </tr>\n",
       "    <tr>\n",
       "      <th>minfun</th>\n",
       "      <td>3168.0</td>\n",
       "      <td>0.036802</td>\n",
       "      <td>0.019220</td>\n",
       "      <td>0.009775</td>\n",
       "      <td>0.018223</td>\n",
       "      <td>0.046110</td>\n",
       "      <td>0.047904</td>\n",
       "      <td>0.204082</td>\n",
       "    </tr>\n",
       "    <tr>\n",
       "      <th>maxfun</th>\n",
       "      <td>3168.0</td>\n",
       "      <td>0.258842</td>\n",
       "      <td>0.030077</td>\n",
       "      <td>0.103093</td>\n",
       "      <td>0.253968</td>\n",
       "      <td>0.271186</td>\n",
       "      <td>0.277457</td>\n",
       "      <td>0.279114</td>\n",
       "    </tr>\n",
       "    <tr>\n",
       "      <th>meandom</th>\n",
       "      <td>3168.0</td>\n",
       "      <td>0.829211</td>\n",
       "      <td>0.525205</td>\n",
       "      <td>0.007812</td>\n",
       "      <td>0.419828</td>\n",
       "      <td>0.765795</td>\n",
       "      <td>1.177166</td>\n",
       "      <td>2.957682</td>\n",
       "    </tr>\n",
       "    <tr>\n",
       "      <th>mindom</th>\n",
       "      <td>3168.0</td>\n",
       "      <td>0.052647</td>\n",
       "      <td>0.063299</td>\n",
       "      <td>0.004883</td>\n",
       "      <td>0.007812</td>\n",
       "      <td>0.023438</td>\n",
       "      <td>0.070312</td>\n",
       "      <td>0.458984</td>\n",
       "    </tr>\n",
       "    <tr>\n",
       "      <th>maxdom</th>\n",
       "      <td>3168.0</td>\n",
       "      <td>5.047277</td>\n",
       "      <td>3.521157</td>\n",
       "      <td>0.007812</td>\n",
       "      <td>2.070312</td>\n",
       "      <td>4.992188</td>\n",
       "      <td>7.007812</td>\n",
       "      <td>21.867188</td>\n",
       "    </tr>\n",
       "    <tr>\n",
       "      <th>dfrange</th>\n",
       "      <td>3168.0</td>\n",
       "      <td>4.994630</td>\n",
       "      <td>3.520039</td>\n",
       "      <td>0.000000</td>\n",
       "      <td>2.044922</td>\n",
       "      <td>4.945312</td>\n",
       "      <td>6.992188</td>\n",
       "      <td>21.843750</td>\n",
       "    </tr>\n",
       "    <tr>\n",
       "      <th>modindx</th>\n",
       "      <td>3168.0</td>\n",
       "      <td>0.173752</td>\n",
       "      <td>0.119454</td>\n",
       "      <td>0.000000</td>\n",
       "      <td>0.099766</td>\n",
       "      <td>0.139357</td>\n",
       "      <td>0.209183</td>\n",
       "      <td>0.932374</td>\n",
       "    </tr>\n",
       "  </tbody>\n",
       "</table>\n",
       "</div>"
      ],
      "text/plain": [
       "           count       mean         std       min       25%       50%  \\\n",
       "meanfreq  3168.0   0.180907    0.029918  0.039363  0.163662  0.184838   \n",
       "sd        3168.0   0.057126    0.016652  0.018363  0.041954  0.059155   \n",
       "median    3168.0   0.185621    0.036360  0.010975  0.169593  0.190032   \n",
       "Q25       3168.0   0.140456    0.048680  0.000229  0.111087  0.140286   \n",
       "Q75       3168.0   0.224765    0.023639  0.042946  0.208747  0.225684   \n",
       "IQR       3168.0   0.084309    0.042783  0.014558  0.042560  0.094280   \n",
       "skew      3168.0   3.140168    4.240529  0.141735  1.649569  2.197101   \n",
       "kurt      3168.0  36.568461  134.928661  2.068455  5.669547  8.318463   \n",
       "sp.ent    3168.0   0.895127    0.044980  0.738651  0.861811  0.901767   \n",
       "sfm       3168.0   0.408216    0.177521  0.036876  0.258041  0.396335   \n",
       "mode      3018.0   0.167440    0.076489  0.000000  0.121497  0.188805   \n",
       "centroid  3168.0   0.180907    0.029918  0.039363  0.163662  0.184838   \n",
       "meanfun   3168.0   0.142807    0.032304  0.055565  0.116998  0.140519   \n",
       "minfun    3168.0   0.036802    0.019220  0.009775  0.018223  0.046110   \n",
       "maxfun    3168.0   0.258842    0.030077  0.103093  0.253968  0.271186   \n",
       "meandom   3168.0   0.829211    0.525205  0.007812  0.419828  0.765795   \n",
       "mindom    3168.0   0.052647    0.063299  0.004883  0.007812  0.023438   \n",
       "maxdom    3168.0   5.047277    3.521157  0.007812  2.070312  4.992188   \n",
       "dfrange   3168.0   4.994630    3.520039  0.000000  2.044922  4.945312   \n",
       "modindx   3168.0   0.173752    0.119454  0.000000  0.099766  0.139357   \n",
       "\n",
       "                75%          max  \n",
       "meanfreq   0.199146     0.251124  \n",
       "sd         0.067020     0.115273  \n",
       "median     0.210618     0.261224  \n",
       "Q25        0.175939     0.247347  \n",
       "Q75        0.243660     0.273469  \n",
       "IQR        0.114175     0.252225  \n",
       "skew       2.931694    34.725453  \n",
       "kurt      13.648905  1309.612887  \n",
       "sp.ent     0.928713     0.981997  \n",
       "sfm        0.533676     0.842936  \n",
       "mode       0.221762     0.280000  \n",
       "centroid   0.199146     0.251124  \n",
       "meanfun    0.169581     0.237636  \n",
       "minfun     0.047904     0.204082  \n",
       "maxfun     0.277457     0.279114  \n",
       "meandom    1.177166     2.957682  \n",
       "mindom     0.070312     0.458984  \n",
       "maxdom     7.007812    21.867188  \n",
       "dfrange    6.992188    21.843750  \n",
       "modindx    0.209183     0.932374  "
      ]
     },
     "execution_count": 52,
     "metadata": {},
     "output_type": "execute_result"
    }
   ],
   "source": [
    "# Checking the Basic Descriptive Stats\n",
    "data.describe().T"
   ]
  },
  {
   "cell_type": "markdown",
   "metadata": {
    "id": "xR3KW9vyMHBg"
   },
   "source": [
    "We can see the data descriptives and there could be  some extreme values which we will work on ahead"
   ]
  },
  {
   "cell_type": "markdown",
   "metadata": {
    "id": "E3Dy_LQWPDbR"
   },
   "source": [
    "# Checking whether there is any null values "
   ]
  },
  {
   "cell_type": "code",
   "execution_count": 53,
   "metadata": {
    "colab": {
     "base_uri": "https://localhost:8080/"
    },
    "id": "YiVme36Mi3DW",
    "outputId": "61da5063-7c6e-49fe-b1a1-6174ae4f2b5e",
    "scrolled": true
   },
   "outputs": [
    {
     "data": {
      "text/plain": [
       "meanfreq      0\n",
       "sd            0\n",
       "median        0\n",
       "Q25           0\n",
       "Q75           0\n",
       "IQR           0\n",
       "skew          0\n",
       "kurt          0\n",
       "sp.ent        0\n",
       "sfm           0\n",
       "mode        150\n",
       "centroid      0\n",
       "meanfun       0\n",
       "minfun        0\n",
       "maxfun        0\n",
       "meandom       0\n",
       "mindom        0\n",
       "maxdom        0\n",
       "dfrange       0\n",
       "modindx       0\n",
       "label         0\n",
       "dtype: int64"
      ]
     },
     "execution_count": 53,
     "metadata": {},
     "output_type": "execute_result"
    }
   ],
   "source": [
    "data.isna().sum()"
   ]
  },
  {
   "cell_type": "markdown",
   "metadata": {},
   "source": [
    "As we Can see we have some missing values in Mode which we will be imputing with Mean"
   ]
  },
  {
   "cell_type": "code",
   "execution_count": 54,
   "metadata": {
    "colab": {
     "base_uri": "https://localhost:8080/"
    },
    "id": "pi2t7c4rNfOT",
    "outputId": "3ed6b85e-8a19-42dc-82e5-8c30e49ca41f"
   },
   "outputs": [
    {
     "name": "stdout",
     "output_type": "stream",
     "text": [
      "<class 'pandas.core.frame.DataFrame'>\n",
      "RangeIndex: 3168 entries, 0 to 3167\n",
      "Data columns (total 21 columns):\n",
      " #   Column    Non-Null Count  Dtype  \n",
      "---  ------    --------------  -----  \n",
      " 0   meanfreq  3168 non-null   float64\n",
      " 1   sd        3168 non-null   float64\n",
      " 2   median    3168 non-null   float64\n",
      " 3   Q25       3168 non-null   float64\n",
      " 4   Q75       3168 non-null   float64\n",
      " 5   IQR       3168 non-null   float64\n",
      " 6   skew      3168 non-null   float64\n",
      " 7   kurt      3168 non-null   float64\n",
      " 8   sp.ent    3168 non-null   float64\n",
      " 9   sfm       3168 non-null   float64\n",
      " 10  mode      3018 non-null   float64\n",
      " 11  centroid  3168 non-null   float64\n",
      " 12  meanfun   3168 non-null   float64\n",
      " 13  minfun    3168 non-null   float64\n",
      " 14  maxfun    3168 non-null   float64\n",
      " 15  meandom   3168 non-null   float64\n",
      " 16  mindom    3168 non-null   float64\n",
      " 17  maxdom    3168 non-null   float64\n",
      " 18  dfrange   3168 non-null   float64\n",
      " 19  modindx   3168 non-null   float64\n",
      " 20  label     3168 non-null   object \n",
      "dtypes: float64(20), object(1)\n",
      "memory usage: 519.9+ KB\n"
     ]
    }
   ],
   "source": [
    "data.info()"
   ]
  },
  {
   "cell_type": "code",
   "execution_count": 55,
   "metadata": {
    "colab": {
     "base_uri": "https://localhost:8080/"
    },
    "id": "ACUG2nVQNl4M",
    "outputId": "30d560c7-eeb2-4106-f77a-b3dca67b5534"
   },
   "outputs": [
    {
     "data": {
      "text/plain": [
       "male      1584\n",
       "female    1584\n",
       "Name: label, dtype: int64"
      ]
     },
     "execution_count": 55,
     "metadata": {},
     "output_type": "execute_result"
    }
   ],
   "source": [
    "data.label.value_counts()"
   ]
  },
  {
   "cell_type": "code",
   "execution_count": 56,
   "metadata": {
    "colab": {
     "base_uri": "https://localhost:8080/",
     "height": 1000
    },
    "id": "DbiQ-V67NksP",
    "outputId": "8948d543-1151-4f0e-fe2a-a8b8655d8cab"
   },
   "outputs": [
    {
     "data": {
      "image/png": "[encoded data removed]",
      "text/plain": [
       "<Figure size 432x288 with 1 Axes>"
      ]
     },
     "metadata": {
      "needs_background": "light"
     },
     "output_type": "display_data"
    },
    {
     "data": {
      "image/png": "[encoded data removed]",
      "text/plain": [
       "<Figure size 432x288 with 1 Axes>"
      ]
     },
     "metadata": {
      "needs_background": "light"
     },
     "output_type": "display_data"
    },
    {
     "data": {
      "image/png": "[encoded data removed]",
      "text/plain": [
       "<Figure size 432x288 with 1 Axes>"
      ]
     },
     "metadata": {
      "needs_background": "light"
     },
     "output_type": "display_data"
    },
    {
     "data": {
      "image/png": "[encoded data removed]",
      "text/plain": [
       "<Figure size 432x288 with 1 Axes>"
      ]
     },
     "metadata": {
      "needs_background": "light"
     },
     "output_type": "display_data"
    },
    {
     "data": {
      "image/png": "[encoded data removed]",
      "text/plain": [
       "<Figure size 432x288 with 1 Axes>"
      ]
     },
     "metadata": {
      "needs_background": "light"
     },
     "output_type": "display_data"
    },
    {
     "data": {
      "image/png": "[encoded data removed]",
      "text/plain": [
       "<Figure size 432x288 with 1 Axes>"
      ]
     },
     "metadata": {
      "needs_background": "light"
     },
     "output_type": "display_data"
    },
    {
     "data": {
      "image/png": "[encoded data removed]",
      "text/plain": [
       "<Figure size 432x288 with 1 Axes>"
      ]
     },
     "metadata": {
      "needs_background": "light"
     },
     "output_type": "display_data"
    },
    {
     "data": {
      "image/png": "[encoded data removed]",
      "text/plain": [
       "<Figure size 432x288 with 1 Axes>"
      ]
     },
     "metadata": {
      "needs_background": "light"
     },
     "output_type": "display_data"
    },
    {
     "data": {
      "image/png": "[encoded data removed]",
      "text/plain": [
       "<Figure size 432x288 with 1 Axes>"
      ]
     },
     "metadata": {
      "needs_background": "light"
     },
     "output_type": "display_data"
    },
    {
     "data": {
      "image/png": "[encoded data removed]",
      "text/plain": [
       "<Figure size 432x288 with 1 Axes>"
      ]
     },
     "metadata": {
      "needs_background": "light"
     },
     "output_type": "display_data"
    },
    {
     "data": {
      "image/png": "[encoded data removed]",
      "text/plain": [
       "<Figure size 432x288 with 1 Axes>"
      ]
     },
     "metadata": {
      "needs_background": "light"
     },
     "output_type": "display_data"
    },
    {
     "data": {
      "image/png": "[encoded data removed]",
      "text/plain": [
       "<Figure size 432x288 with 1 Axes>"
      ]
     },
     "metadata": {
      "needs_background": "light"
     },
     "output_type": "display_data"
    },
    {
     "data": {
      "image/png": "[encoded data removed]",
      "text/plain": [
       "<Figure size 432x288 with 1 Axes>"
      ]
     },
     "metadata": {
      "needs_background": "light"
     },
     "output_type": "display_data"
    },
    {
     "data": {
      "image/png": "[encoded data removed]",
      "text/plain": [
       "<Figure size 432x288 with 1 Axes>"
      ]
     },
     "metadata": {
      "needs_background": "light"
     },
     "output_type": "display_data"
    },
    {
     "data": {
      "image/png": "[encoded data removed]",
      "text/plain": [
       "<Figure size 432x288 with 1 Axes>"
      ]
     },
     "metadata": {
      "needs_background": "light"
     },
     "output_type": "display_data"
    },
    {
     "data": {
      "image/png": "[encoded data removed]",
      "text/plain": [
       "<Figure size 432x288 with 1 Axes>"
      ]
     },
     "metadata": {
      "needs_background": "light"
     },
     "output_type": "display_data"
    },
    {
     "data": {
      "image/png": "[encoded data removed]",
      "text/plain": [
       "<Figure size 432x288 with 1 Axes>"
      ]
     },
     "metadata": {
      "needs_background": "light"
     },
     "output_type": "display_data"
    },
    {
     "data": {
      "image/png": "[encoded data removed]",
      "text/plain": [
       "<Figure size 432x288 with 1 Axes>"
      ]
     },
     "metadata": {
      "needs_background": "light"
     },
     "output_type": "display_data"
    },
    {
     "data": {
      "image/png": "[encoded data removed]",
      "text/plain": [
       "<Figure size 432x288 with 1 Axes>"
      ]
     },
     "metadata": {
      "needs_background": "light"
     },
     "output_type": "display_data"
    },
    {
     "data": {
      "image/png": "[encoded data removed]",
      "text/plain": [
       "<Figure size 432x288 with 1 Axes>"
      ]
     },
     "metadata": {
      "needs_background": "light"
     },
     "output_type": "display_data"
    }
   ],
   "source": [
    "for i in data.drop(columns ='label').columns:\n",
    "  sns.histplot(data=data,x=i,hue='label')\n",
    "  plt.title(i)\n",
    "  plt.show()"
   ]
  },
  {
   "cell_type": "markdown",
   "metadata": {
    "id": "86sYegOtPxJD"
   },
   "source": [
    "From the graphs above we can see that almost every independent variable highest value is Male's"
   ]
  },
  {
   "cell_type": "code",
   "execution_count": 57,
   "metadata": {
    "colab": {
     "base_uri": "https://localhost:8080/"
    },
    "id": "vIWOgBavPDbU",
    "outputId": "2830c31d-c655-4f6f-e30e-9fad5025b5df"
   },
   "outputs": [
    {
     "data": {
      "text/plain": [
       "male      1584\n",
       "female    1584\n",
       "Name: label, dtype: int64"
      ]
     },
     "execution_count": 57,
     "metadata": {},
     "output_type": "execute_result"
    }
   ],
   "source": [
    "data.label.value_counts()"
   ]
  },
  {
   "cell_type": "code",
   "execution_count": 58,
   "metadata": {
    "colab": {
     "base_uri": "https://localhost:8080/"
    },
    "id": "KG98_dTzmDYU",
    "outputId": "cc5285fa-18c1-4e6f-d212-0844c2b166ea"
   },
   "outputs": [
    {
     "data": {
      "text/plain": [
       "3168"
      ]
     },
     "execution_count": 58,
     "metadata": {},
     "output_type": "execute_result"
    }
   ],
   "source": [
    "data.label.count()"
   ]
  },
  {
   "cell_type": "markdown",
   "metadata": {
    "id": "VyWgnRGbQRMl"
   },
   "source": [
    "Total number of observations are 3168 and is equally divided between both labels"
   ]
  },
  {
   "cell_type": "markdown",
   "metadata": {
    "id": "dXb1ihXTPDbV"
   },
   "source": [
    "# Separating Independent and Dependent Variable"
   ]
  },
  {
   "cell_type": "code",
   "execution_count": 59,
   "metadata": {
    "id": "LYJqEvNsPDbW"
   },
   "outputs": [],
   "source": [
    "X = data.drop(columns='label',axis=1)"
   ]
  },
  {
   "cell_type": "code",
   "execution_count": 60,
   "metadata": {
    "id": "tIOhfih-m1_8"
   },
   "outputs": [],
   "source": [
    "y= data['label']"
   ]
  },
  {
   "cell_type": "code",
   "execution_count": 61,
   "metadata": {
    "colab": {
     "base_uri": "https://localhost:8080/"
    },
    "id": "KYa-OQHtSzR5",
    "outputId": "c7da204f-5262-4571-b64a-1027c28e49c9"
   },
   "outputs": [
    {
     "data": {
      "text/plain": [
       "0         male\n",
       "1         male\n",
       "2         male\n",
       "3         male\n",
       "4         male\n",
       "         ...  \n",
       "3163    female\n",
       "3164    female\n",
       "3165    female\n",
       "3166    female\n",
       "3167    female\n",
       "Name: label, Length: 3168, dtype: object"
      ]
     },
     "execution_count": 61,
     "metadata": {},
     "output_type": "execute_result"
    }
   ],
   "source": [
    "y"
   ]
  },
  {
   "cell_type": "markdown",
   "metadata": {
    "id": "q1fA6PFZPDbW"
   },
   "source": [
    "# Encoding of Data"
   ]
  },
  {
   "cell_type": "code",
   "execution_count": 62,
   "metadata": {
    "id": "HcAcr6ILSxX_"
   },
   "outputs": [],
   "source": [
    "y=pd.get_dummies(data=y,drop_first =True)"
   ]
  },
  {
   "cell_type": "code",
   "execution_count": 63,
   "metadata": {
    "colab": {
     "base_uri": "https://localhost:8080/",
     "height": 424
    },
    "id": "A3zUH0SLPDbW",
    "outputId": "62f4f927-b74e-4c47-cf7f-450a3ab4d630",
    "scrolled": true
   },
   "outputs": [
    {
     "data": {
      "text/html": [
       "<div>\n",
       "<style scoped>\n",
       "    .dataframe tbody tr th:only-of-type {\n",
       "        vertical-align: middle;\n",
       "    }\n",
       "\n",
       "    .dataframe tbody tr th {\n",
       "        vertical-align: top;\n",
       "    }\n",
       "\n",
       "    .dataframe thead th {\n",
       "        text-align: right;\n",
       "    }\n",
       "</style>\n",
       "<table border=\"1\" class=\"dataframe\">\n",
       "  <thead>\n",
       "    <tr style=\"text-align: right;\">\n",
       "      <th></th>\n",
       "      <th>male</th>\n",
       "    </tr>\n",
       "  </thead>\n",
       "  <tbody>\n",
       "    <tr>\n",
       "      <th>0</th>\n",
       "      <td>1</td>\n",
       "    </tr>\n",
       "    <tr>\n",
       "      <th>1</th>\n",
       "      <td>1</td>\n",
       "    </tr>\n",
       "    <tr>\n",
       "      <th>2</th>\n",
       "      <td>1</td>\n",
       "    </tr>\n",
       "    <tr>\n",
       "      <th>3</th>\n",
       "      <td>1</td>\n",
       "    </tr>\n",
       "    <tr>\n",
       "      <th>4</th>\n",
       "      <td>1</td>\n",
       "    </tr>\n",
       "    <tr>\n",
       "      <th>...</th>\n",
       "      <td>...</td>\n",
       "    </tr>\n",
       "    <tr>\n",
       "      <th>3163</th>\n",
       "      <td>0</td>\n",
       "    </tr>\n",
       "    <tr>\n",
       "      <th>3164</th>\n",
       "      <td>0</td>\n",
       "    </tr>\n",
       "    <tr>\n",
       "      <th>3165</th>\n",
       "      <td>0</td>\n",
       "    </tr>\n",
       "    <tr>\n",
       "      <th>3166</th>\n",
       "      <td>0</td>\n",
       "    </tr>\n",
       "    <tr>\n",
       "      <th>3167</th>\n",
       "      <td>0</td>\n",
       "    </tr>\n",
       "  </tbody>\n",
       "</table>\n",
       "<p>3168 rows × 1 columns</p>\n",
       "</div>"
      ],
      "text/plain": [
       "      male\n",
       "0        1\n",
       "1        1\n",
       "2        1\n",
       "3        1\n",
       "4        1\n",
       "...    ...\n",
       "3163     0\n",
       "3164     0\n",
       "3165     0\n",
       "3166     0\n",
       "3167     0\n",
       "\n",
       "[3168 rows x 1 columns]"
      ]
     },
     "execution_count": 63,
     "metadata": {},
     "output_type": "execute_result"
    }
   ],
   "source": [
    "y"
   ]
  },
  {
   "cell_type": "markdown",
   "metadata": {},
   "source": [
    "# IMPUTING DATA"
   ]
  },
  {
   "cell_type": "code",
   "execution_count": 70,
   "metadata": {},
   "outputs": [],
   "source": [
    "from sklearn.impute import SimpleImputer\n",
    "from sklearn.compose import ColumnTransformer"
   ]
  },
  {
   "cell_type": "code",
   "execution_count": 71,
   "metadata": {},
   "outputs": [],
   "source": [
    "trf1= ColumnTransformer([\n",
    "    ('Imputer',SimpleImputer(strategy='mean'),['mode'])\n",
    "                        ],remainder = 'passthrough')"
   ]
  },
  {
   "cell_type": "markdown",
   "metadata": {
    "id": "r1vJ4E-6PDbW"
   },
   "source": [
    "# Scale the data"
   ]
  },
  {
   "cell_type": "code",
   "execution_count": 72,
   "metadata": {
    "id": "6RcFY7omPDbX"
   },
   "outputs": [],
   "source": [
    "from sklearn.preprocessing import StandardScaler\n",
    "trf2 = ColumnTransformer([\n",
    "    ('Scaler', StandardScaler(),slice(0,20))\n",
    "],remainder ='passthrough')"
   ]
  },
  {
   "cell_type": "markdown",
   "metadata": {
    "id": "Qh5VNr8aPDbX"
   },
   "source": [
    " Train Test Split\n",
    "\n"
   ]
  },
  {
   "cell_type": "code",
   "execution_count": 73,
   "metadata": {
    "id": "O0LcQnudPDbX"
   },
   "outputs": [],
   "source": [
    "from sklearn.model_selection import train_test_split\n",
    "X_train , X_test , y_train , y_test = train_test_split(X , y , test_size=0.30,random_state =121)"
   ]
  },
  {
   "cell_type": "code",
   "execution_count": 74,
   "metadata": {
    "id": "IixXjrlOPDbY"
   },
   "outputs": [],
   "source": [
    "from sklearn.linear_model import SGDClassifier\n",
    "trf3 = SGDClassifier(loss = 'log')"
   ]
  },
  {
   "cell_type": "code",
   "execution_count": 75,
   "metadata": {},
   "outputs": [],
   "source": [
    "from sklearn.pipeline import make_pipeline\n",
    "pipe = make_pipeline(trf1 , trf2,trf3)"
   ]
  },
  {
   "cell_type": "code",
   "execution_count": 76,
   "metadata": {
    "scrolled": true
   },
   "outputs": [
    {
     "name": "stderr",
     "output_type": "stream",
     "text": [
      "C:\\Users\\ACER\\anaconda3\\lib\\site-packages\\sklearn\\utils\\validation.py:993: DataConversionWarning: A column-vector y was passed when a 1d array was expected. Please change the shape of y to (n_samples, ), for example using ravel().\n",
      "  y = column_or_1d(y, warn=True)\n"
     ]
    },
    {
     "data": {
      "text/plain": [
       "Pipeline(steps=[('columntransformer-1',\n",
       "                 ColumnTransformer(remainder='passthrough',\n",
       "                                   transformers=[('Imputer', SimpleImputer(),\n",
       "                                                  ['mode'])])),\n",
       "                ('columntransformer-2',\n",
       "                 ColumnTransformer(remainder='passthrough',\n",
       "                                   transformers=[('Scaler', StandardScaler(),\n",
       "                                                  slice(0, 20, None))])),\n",
       "                ('sgdclassifier', SGDClassifier(loss='log'))])"
      ]
     },
     "execution_count": 76,
     "metadata": {},
     "output_type": "execute_result"
    }
   ],
   "source": [
    "pipe.fit(X_train,y_train)"
   ]
  },
  {
   "cell_type": "code",
   "execution_count": 81,
   "metadata": {},
   "outputs": [],
   "source": [
    "y_pred=pipe.predict(X_test)"
   ]
  },
  {
   "cell_type": "code",
   "execution_count": 82,
   "metadata": {
    "id": "5vWuw7fiXwJ9"
   },
   "outputs": [],
   "source": [
    "from sklearn.metrics import confusion_matrix\n",
    "from sklearn.metrics import classification_report\n"
   ]
  },
  {
   "cell_type": "code",
   "execution_count": 83,
   "metadata": {
    "colab": {
     "base_uri": "https://localhost:8080/"
    },
    "id": "guChUqWFXwd-",
    "outputId": "2e88641a-3209-49c7-f7a7-f84252743e41"
   },
   "outputs": [
    {
     "data": {
      "text/plain": [
       "array([[428,  20],\n",
       "       [ 14, 489]], dtype=int64)"
      ]
     },
     "execution_count": 83,
     "metadata": {},
     "output_type": "execute_result"
    }
   ],
   "source": [
    "confusion_matrix(y_test,y_pred)"
   ]
  },
  {
   "cell_type": "code",
   "execution_count": 84,
   "metadata": {
    "colab": {
     "base_uri": "https://localhost:8080/"
    },
    "id": "tW5oLhhyaUJm",
    "outputId": "9c0abccf-0a78-4bf7-c386-60cbcd742dcc"
   },
   "outputs": [
    {
     "name": "stdout",
     "output_type": "stream",
     "text": [
      "              precision    recall  f1-score   support\n",
      "\n",
      "           0       0.97      0.96      0.96       448\n",
      "           1       0.96      0.97      0.97       503\n",
      "\n",
      "    accuracy                           0.96       951\n",
      "   macro avg       0.96      0.96      0.96       951\n",
      "weighted avg       0.96      0.96      0.96       951\n",
      "\n"
     ]
    }
   ],
   "source": [
    "print(classification_report(y_test , y_pred))"
   ]
  },
  {
   "cell_type": "code",
   "execution_count": 85,
   "metadata": {
    "id": "A4kNC_TMaUNA"
   },
   "outputs": [],
   "source": [
    "y_trainpred=pipe.predict(X_train)"
   ]
  },
  {
   "cell_type": "code",
   "execution_count": 86,
   "metadata": {
    "colab": {
     "base_uri": "https://localhost:8080/"
    },
    "id": "q5l4GaYqaUQW",
    "outputId": "c8aace14-24f6-4d2e-f038-82cf6860f587"
   },
   "outputs": [
    {
     "name": "stdout",
     "output_type": "stream",
     "text": [
      "              precision    recall  f1-score   support\n",
      "\n",
      "           0       0.97      0.98      0.97      1136\n",
      "           1       0.97      0.97      0.97      1081\n",
      "\n",
      "    accuracy                           0.97      2217\n",
      "   macro avg       0.97      0.97      0.97      2217\n",
      "weighted avg       0.97      0.97      0.97      2217\n",
      "\n"
     ]
    }
   ],
   "source": [
    "print(classification_report(y_train , y_trainpred))"
   ]
  },
  {
   "cell_type": "markdown",
   "metadata": {
    "id": "v3tu7omid4GU"
   },
   "source": [
    "As we can see according to the classification report the model is very goot in predicting both labels and is 96% accurate."
   ]
  },
  {
   "cell_type": "code",
   "execution_count": 87,
   "metadata": {
    "colab": {
     "base_uri": "https://localhost:8080/"
    },
    "id": "q2DeE7DIbKrX",
    "outputId": "a00d9e93-2c3e-4e19-bc4f-904104af7a61"
   },
   "outputs": [
    {
     "name": "stdout",
     "output_type": "stream",
     "text": [
      "0.92820378454474\n"
     ]
    }
   ],
   "source": [
    "from sklearn.metrics import cohen_kappa_score\n",
    "print(cohen_kappa_score(y_test , y_pred))"
   ]
  },
  {
   "cell_type": "markdown",
   "metadata": {
    "id": "DVYzO27CcBbC"
   },
   "source": [
    "As the kappa score is 0.92 we can say that predicted and actual are very close"
   ]
  },
  {
   "cell_type": "code",
   "execution_count": 88,
   "metadata": {
    "colab": {
     "base_uri": "https://localhost:8080/",
     "height": 295
    },
    "id": "tIXYpXN8bKvK",
    "outputId": "e3a48bab-6f78-48a4-8b0c-7fc687edd34b"
   },
   "outputs": [
    {
     "data": {
      "image/png": "[encoded data removed]",
      "text/plain": [
       "<Figure size 432x288 with 1 Axes>"
      ]
     },
     "metadata": {
      "needs_background": "light"
     },
     "output_type": "display_data"
    }
   ],
   "source": [
    "from sklearn.metrics import roc_curve\n",
    "y_pred_prob = pipe.predict_proba(X_test)[:,1]\n",
    "\n",
    "fpr, tpr, thresholds = roc_curve(y_test, y_pred_prob)\n",
    "\n",
    "plt.plot([0, 1], [0, 1], 'k--')\n",
    "plt.plot(fpr, tpr)\n",
    "plt.xlabel('False Positive Rate')\n",
    "plt.ylabel('True Positive Rate')\n",
    "plt.title('ROC Curve')\n",
    "plt.show()"
   ]
  },
  {
   "cell_type": "code",
   "execution_count": null,
   "metadata": {},
   "outputs": [],
   "source": []
  }
 ],
 "metadata": {
  "accelerator": "GPU",
  "colab": {
   "provenance": []
  },
  "gpuClass": "standard",
  "kernelspec": {
   "display_name": "Python 3 (ipykernel)",
   "language": "python",
   "name": "python3"
  },
  "language_info": {
   "codemirror_mode": {
    "name": "ipython",
    "version": 3
   },
   "file_extension": ".py",
   "mimetype": "text/x-python",
   "name": "python",
   "nbconvert_exporter": "python",
   "pygments_lexer": "ipython3",
   "version": "3.9.12"
  }
 },
 "nbformat": 4,
 "nbformat_minor": 1
}
